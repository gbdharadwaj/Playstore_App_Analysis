{
 "cells": [
  {
   "cell_type": "markdown",
   "id": "c6ff375f",
   "metadata": {},
   "source": [
    "# Play Store App Data Analysis"
   ]
  },
  {
   "cell_type": "code",
   "execution_count": 1,
   "id": "56f70137",
   "metadata": {},
   "outputs": [],
   "source": [
    "#import required libraries\n",
    "import pandas as pd\n",
    "import numpy as np\n",
    "from numpy import nan"
   ]
  },
  {
   "cell_type": "code",
   "execution_count": 2,
   "id": "732ecedf",
   "metadata": {},
   "outputs": [
    {
     "data": {
      "text/html": [
       "<div>\n",
       "<style scoped>\n",
       "    .dataframe tbody tr th:only-of-type {\n",
       "        vertical-align: middle;\n",
       "    }\n",
       "\n",
       "    .dataframe tbody tr th {\n",
       "        vertical-align: top;\n",
       "    }\n",
       "\n",
       "    .dataframe thead th {\n",
       "        text-align: right;\n",
       "    }\n",
       "</style>\n",
       "<table border=\"1\" class=\"dataframe\">\n",
       "  <thead>\n",
       "    <tr style=\"text-align: right;\">\n",
       "      <th></th>\n",
       "      <th>Category</th>\n",
       "      <th>Rating</th>\n",
       "      <th>Reviews</th>\n",
       "      <th>Size</th>\n",
       "      <th>Installs</th>\n",
       "      <th>Type</th>\n",
       "      <th>Price</th>\n",
       "      <th>Content Rating</th>\n",
       "      <th>Genres</th>\n",
       "      <th>Last Updated</th>\n",
       "      <th>Current Ver</th>\n",
       "      <th>Android Ver</th>\n",
       "    </tr>\n",
       "    <tr>\n",
       "      <th>App</th>\n",
       "      <th></th>\n",
       "      <th></th>\n",
       "      <th></th>\n",
       "      <th></th>\n",
       "      <th></th>\n",
       "      <th></th>\n",
       "      <th></th>\n",
       "      <th></th>\n",
       "      <th></th>\n",
       "      <th></th>\n",
       "      <th></th>\n",
       "      <th></th>\n",
       "    </tr>\n",
       "  </thead>\n",
       "  <tbody>\n",
       "    <tr>\n",
       "      <th>Photo Editor &amp; Candy Camera &amp; Grid &amp; ScrapBook</th>\n",
       "      <td>ART_AND_DESIGN</td>\n",
       "      <td>4.1</td>\n",
       "      <td>159.0</td>\n",
       "      <td>19M</td>\n",
       "      <td>10000.0</td>\n",
       "      <td>Free</td>\n",
       "      <td>0.0</td>\n",
       "      <td>Everyone</td>\n",
       "      <td>Art &amp; Design</td>\n",
       "      <td>07-01-2018</td>\n",
       "      <td>1.0.0</td>\n",
       "      <td>4.0.3 and up</td>\n",
       "    </tr>\n",
       "    <tr>\n",
       "      <th>Coloring book moana</th>\n",
       "      <td>ART_AND_DESIGN</td>\n",
       "      <td>3.9</td>\n",
       "      <td>967.0</td>\n",
       "      <td>14M</td>\n",
       "      <td>500000.0</td>\n",
       "      <td>Free</td>\n",
       "      <td>0.0</td>\n",
       "      <td>Everyone</td>\n",
       "      <td>Art &amp; Design;Pretend Play</td>\n",
       "      <td>15-01-2018</td>\n",
       "      <td>2.0.0</td>\n",
       "      <td>4.0.3 and up</td>\n",
       "    </tr>\n",
       "    <tr>\n",
       "      <th>U Launcher Lite – FREE Live Cool Themes, Hide Apps</th>\n",
       "      <td>ART_AND_DESIGN</td>\n",
       "      <td>4.7</td>\n",
       "      <td>87510.0</td>\n",
       "      <td>8.7M</td>\n",
       "      <td>5000000.0</td>\n",
       "      <td>Free</td>\n",
       "      <td>0.0</td>\n",
       "      <td>Everyone</td>\n",
       "      <td>Art &amp; Design</td>\n",
       "      <td>01-08-2018</td>\n",
       "      <td>1.2.4</td>\n",
       "      <td>4.0.3 and up</td>\n",
       "    </tr>\n",
       "    <tr>\n",
       "      <th>Sketch - Draw &amp; Paint</th>\n",
       "      <td>ART_AND_DESIGN</td>\n",
       "      <td>4.5</td>\n",
       "      <td>215644.0</td>\n",
       "      <td>25M</td>\n",
       "      <td>50000000.0</td>\n",
       "      <td>Free</td>\n",
       "      <td>0.0</td>\n",
       "      <td>Teen</td>\n",
       "      <td>Art &amp; Design</td>\n",
       "      <td>08-06-2018</td>\n",
       "      <td>Varies with device</td>\n",
       "      <td>4.2 and up</td>\n",
       "    </tr>\n",
       "    <tr>\n",
       "      <th>Pixel Draw - Number Art Coloring Book</th>\n",
       "      <td>ART_AND_DESIGN</td>\n",
       "      <td>4.3</td>\n",
       "      <td>967.0</td>\n",
       "      <td>2.8M</td>\n",
       "      <td>100000.0</td>\n",
       "      <td>Free</td>\n",
       "      <td>0.0</td>\n",
       "      <td>Everyone</td>\n",
       "      <td>Art &amp; Design;Creativity</td>\n",
       "      <td>20-06-2018</td>\n",
       "      <td>1.1</td>\n",
       "      <td>4.4 and up</td>\n",
       "    </tr>\n",
       "  </tbody>\n",
       "</table>\n",
       "</div>"
      ],
      "text/plain": [
       "                                                          Category  Rating  \\\n",
       "App                                                                          \n",
       "Photo Editor & Candy Camera & Grid & ScrapBook      ART_AND_DESIGN     4.1   \n",
       "Coloring book moana                                 ART_AND_DESIGN     3.9   \n",
       "U Launcher Lite – FREE Live Cool Themes, Hide Apps  ART_AND_DESIGN     4.7   \n",
       "Sketch - Draw & Paint                               ART_AND_DESIGN     4.5   \n",
       "Pixel Draw - Number Art Coloring Book               ART_AND_DESIGN     4.3   \n",
       "\n",
       "                                                     Reviews  Size  \\\n",
       "App                                                                  \n",
       "Photo Editor & Candy Camera & Grid & ScrapBook         159.0   19M   \n",
       "Coloring book moana                                    967.0   14M   \n",
       "U Launcher Lite – FREE Live Cool Themes, Hide Apps   87510.0  8.7M   \n",
       "Sketch - Draw & Paint                               215644.0   25M   \n",
       "Pixel Draw - Number Art Coloring Book                  967.0  2.8M   \n",
       "\n",
       "                                                      Installs  Type  Price  \\\n",
       "App                                                                           \n",
       "Photo Editor & Candy Camera & Grid & ScrapBook         10000.0  Free    0.0   \n",
       "Coloring book moana                                   500000.0  Free    0.0   \n",
       "U Launcher Lite – FREE Live Cool Themes, Hide Apps   5000000.0  Free    0.0   \n",
       "Sketch - Draw & Paint                               50000000.0  Free    0.0   \n",
       "Pixel Draw - Number Art Coloring Book                 100000.0  Free    0.0   \n",
       "\n",
       "                                                   Content Rating  \\\n",
       "App                                                                 \n",
       "Photo Editor & Candy Camera & Grid & ScrapBook           Everyone   \n",
       "Coloring book moana                                      Everyone   \n",
       "U Launcher Lite – FREE Live Cool Themes, Hide Apps       Everyone   \n",
       "Sketch - Draw & Paint                                        Teen   \n",
       "Pixel Draw - Number Art Coloring Book                    Everyone   \n",
       "\n",
       "                                                                       Genres  \\\n",
       "App                                                                             \n",
       "Photo Editor & Candy Camera & Grid & ScrapBook                   Art & Design   \n",
       "Coloring book moana                                 Art & Design;Pretend Play   \n",
       "U Launcher Lite – FREE Live Cool Themes, Hide Apps               Art & Design   \n",
       "Sketch - Draw & Paint                                            Art & Design   \n",
       "Pixel Draw - Number Art Coloring Book                 Art & Design;Creativity   \n",
       "\n",
       "                                                   Last Updated  \\\n",
       "App                                                               \n",
       "Photo Editor & Candy Camera & Grid & ScrapBook       07-01-2018   \n",
       "Coloring book moana                                  15-01-2018   \n",
       "U Launcher Lite – FREE Live Cool Themes, Hide Apps   01-08-2018   \n",
       "Sketch - Draw & Paint                                08-06-2018   \n",
       "Pixel Draw - Number Art Coloring Book                20-06-2018   \n",
       "\n",
       "                                                           Current Ver  \\\n",
       "App                                                                      \n",
       "Photo Editor & Candy Camera & Grid & ScrapBook                   1.0.0   \n",
       "Coloring book moana                                              2.0.0   \n",
       "U Launcher Lite – FREE Live Cool Themes, Hide Apps               1.2.4   \n",
       "Sketch - Draw & Paint                               Varies with device   \n",
       "Pixel Draw - Number Art Coloring Book                              1.1   \n",
       "\n",
       "                                                     Android Ver  \n",
       "App                                                               \n",
       "Photo Editor & Candy Camera & Grid & ScrapBook      4.0.3 and up  \n",
       "Coloring book moana                                 4.0.3 and up  \n",
       "U Launcher Lite – FREE Live Cool Themes, Hide Apps  4.0.3 and up  \n",
       "Sketch - Draw & Paint                                 4.2 and up  \n",
       "Pixel Draw - Number Art Coloring Book                 4.4 and up  "
      ]
     },
     "execution_count": 2,
     "metadata": {},
     "output_type": "execute_result"
    }
   ],
   "source": [
    "#import App dataset\n",
    "file=pd.read_csv(\"C:/Users/rajpu/OneDrive/Desktop/PlayStoreApp_Analysis/playstoreliveproj Drive FIle/playstoreliveproj/playstore_apps.csv\", index_col = 'App')\n",
    "file.head()"
   ]
  },
  {
   "cell_type": "code",
   "execution_count": 3,
   "id": "b917f459",
   "metadata": {},
   "outputs": [
    {
     "data": {
      "text/plain": [
       "(10841, 12)"
      ]
     },
     "execution_count": 3,
     "metadata": {},
     "output_type": "execute_result"
    }
   ],
   "source": [
    "file.shape    # check shape of data"
   ]
  },
  {
   "cell_type": "markdown",
   "id": "1bcb57f5",
   "metadata": {},
   "source": [
    "### SubTask 1 :- Remove duplicate data  Or Cleaning data"
   ]
  },
  {
   "cell_type": "code",
   "execution_count": 4,
   "id": "540b29a8",
   "metadata": {},
   "outputs": [
    {
     "name": "stdout",
     "output_type": "stream",
     "text": [
      "<class 'pandas.core.frame.DataFrame'>\n",
      "Index: 9930 entries, Photo Editor & Candy Camera & Grid & ScrapBook to iHoroscope - 2018 Daily Horoscope & Astrology\n",
      "Data columns (total 12 columns):\n",
      " #   Column          Non-Null Count  Dtype  \n",
      "---  ------          --------------  -----  \n",
      " 0   Category        9930 non-null   object \n",
      " 1   Rating          8487 non-null   float64\n",
      " 2   Reviews         9929 non-null   float64\n",
      " 3   Size            9930 non-null   object \n",
      " 4   Installs        9929 non-null   float64\n",
      " 5   Type            9929 non-null   object \n",
      " 6   Price           9929 non-null   float64\n",
      " 7   Content Rating  9929 non-null   object \n",
      " 8   Genres          9930 non-null   object \n",
      " 9   Last Updated    9929 non-null   object \n",
      " 10  Current Ver     9922 non-null   object \n",
      " 11  Android Ver     9927 non-null   object \n",
      "dtypes: float64(4), object(8)\n",
      "memory usage: 1008.5+ KB\n"
     ]
    }
   ],
   "source": [
    "file.drop_duplicates(keep=False,inplace=True)\n",
    "file.info()"
   ]
  },
  {
   "cell_type": "code",
   "execution_count": 5,
   "id": "72c49be5",
   "metadata": {},
   "outputs": [
    {
     "data": {
      "text/plain": [
       "Index(['Category', 'Rating', 'Reviews', 'Size', 'Installs', 'Type', 'Price',\n",
       "       'Content Rating', 'Genres', 'Last Updated', 'Current Ver',\n",
       "       'Android Ver'],\n",
       "      dtype='object')"
      ]
     },
     "execution_count": 5,
     "metadata": {},
     "output_type": "execute_result"
    }
   ],
   "source": [
    "file.columns   #check columns in the data"
   ]
  },
  {
   "cell_type": "markdown",
   "id": "f1c92d49",
   "metadata": {},
   "source": [
    "### SubTask 2 :- Check Unique Values in each column of data"
   ]
  },
  {
   "cell_type": "code",
   "execution_count": 6,
   "id": "3dcad468",
   "metadata": {},
   "outputs": [
    {
     "data": {
      "text/plain": [
       "array(['ART_AND_DESIGN', 'AUTO_AND_VEHICLES', 'BEAUTY',\n",
       "       'BOOKS_AND_REFERENCE', 'BUSINESS', 'COMICS', 'COMMUNICATION',\n",
       "       'DATING', 'EDUCATION', 'ENTERTAINMENT', 'EVENTS', 'FINANCE',\n",
       "       'FOOD_AND_DRINK', 'HEALTH_AND_FITNESS', 'HOUSE_AND_HOME',\n",
       "       'LIBRARIES_AND_DEMO', 'LIFESTYLE', 'GAME', 'FAMILY', 'MEDICAL',\n",
       "       'SOCIAL', 'SHOPPING', 'PHOTOGRAPHY', 'SPORTS', 'TRAVEL_AND_LOCAL',\n",
       "       'TOOLS', 'PERSONALIZATION', 'PRODUCTIVITY', 'PARENTING', 'WEATHER',\n",
       "       'VIDEO_PLAYERS', 'NEWS_AND_MAGAZINES', 'MAPS_AND_NAVIGATION',\n",
       "       '1.9'], dtype=object)"
      ]
     },
     "execution_count": 6,
     "metadata": {},
     "output_type": "execute_result"
    }
   ],
   "source": [
    "file['Category'].unique()"
   ]
  },
  {
   "cell_type": "code",
   "execution_count": 7,
   "id": "1ab59b36",
   "metadata": {},
   "outputs": [
    {
     "data": {
      "text/plain": [
       "34"
      ]
     },
     "execution_count": 7,
     "metadata": {},
     "output_type": "execute_result"
    }
   ],
   "source": [
    "file['Category'].nunique()"
   ]
  },
  {
   "cell_type": "code",
   "execution_count": 8,
   "id": "495fd042",
   "metadata": {},
   "outputs": [
    {
     "name": "stdout",
     "output_type": "stream",
     "text": [
      "['ART_AND_DESIGN' 'AUTO_AND_VEHICLES' 'BEAUTY' 'BOOKS_AND_REFERENCE'\n",
      " 'BUSINESS' 'COMICS' 'COMMUNICATION' 'DATING' 'EDUCATION' 'ENTERTAINMENT'\n",
      " 'EVENTS' 'FINANCE' 'FOOD_AND_DRINK' 'HEALTH_AND_FITNESS' 'HOUSE_AND_HOME'\n",
      " 'LIBRARIES_AND_DEMO' 'LIFESTYLE' 'GAME' 'FAMILY' 'MEDICAL' 'SOCIAL'\n",
      " 'SHOPPING' 'PHOTOGRAPHY' 'SPORTS' 'TRAVEL_AND_LOCAL' 'TOOLS'\n",
      " 'PERSONALIZATION' 'PRODUCTIVITY' 'PARENTING' 'WEATHER' 'VIDEO_PLAYERS'\n",
      " 'NEWS_AND_MAGAZINES' 'MAPS_AND_NAVIGATION' '1.9']\n",
      "                                        Category  Rating  Reviews    Size  \\\n",
      "App                                                                         \n",
      "Life Made WI-Fi Touchscreen Photo Frame      1.9    19.0      NaN  1,000+   \n",
      "\n",
      "                                         Installs Type  Price Content Rating  \\\n",
      "App                                                                            \n",
      "Life Made WI-Fi Touchscreen Photo Frame       NaN    0    NaN            NaN   \n",
      "\n",
      "                                                    Genres Last Updated  \\\n",
      "App                                                                       \n",
      "Life Made WI-Fi Touchscreen Photo Frame  February 11, 2018          NaN   \n",
      "\n",
      "                                        Current Ver Android Ver  \n",
      "App                                                              \n",
      "Life Made WI-Fi Touchscreen Photo Frame  4.0 and up         NaN  \n",
      "['ART_AND_DESIGN' 'AUTO_AND_VEHICLES' 'BEAUTY' 'BOOKS_AND_REFERENCE'\n",
      " 'BUSINESS' 'COMICS' 'COMMUNICATION' 'DATING' 'EDUCATION' 'ENTERTAINMENT'\n",
      " 'EVENTS' 'FINANCE' 'FOOD_AND_DRINK' 'HEALTH_AND_FITNESS' 'HOUSE_AND_HOME'\n",
      " 'LIBRARIES_AND_DEMO' 'LIFESTYLE' 'GAME' 'FAMILY' 'MEDICAL' 'SOCIAL'\n",
      " 'SHOPPING' 'PHOTOGRAPHY' 'SPORTS' 'TRAVEL_AND_LOCAL' 'TOOLS'\n",
      " 'PERSONALIZATION' 'PRODUCTIVITY' 'PARENTING' 'WEATHER' 'VIDEO_PLAYERS'\n",
      " 'NEWS_AND_MAGAZINES' 'MAPS_AND_NAVIGATION']\n"
     ]
    }
   ],
   "source": [
    "print(file['Category'].unique())\n",
    "print(file[file['Category']=='1.9'])\n",
    "file.drop(\"Life Made WI-Fi Touchscreen Photo Frame\", inplace=True) #drop invalid value\n",
    "print(file['Category'].unique())"
   ]
  },
  {
   "cell_type": "code",
   "execution_count": 9,
   "id": "94c063c1",
   "metadata": {},
   "outputs": [
    {
     "data": {
      "text/plain": [
       "array([4.1, 3.9, 4.7, 4.5, 4.3, 4.4, 3.8, 4.2, 4.6, 3.2, 4. , nan, 4.8,\n",
       "       4.9, 3.6, 3.7, 3.3, 3.4, 3.5, 3.1, 5. , 2.6, 3. , 2.5, 1. , 1.9,\n",
       "       2.9, 2.8, 2.3, 2.2, 1.7, 2. , 1.8, 2.7, 2.4, 1.6, 2.1, 1.4, 1.5,\n",
       "       1.2])"
      ]
     },
     "execution_count": 9,
     "metadata": {},
     "output_type": "execute_result"
    }
   ],
   "source": [
    "file['Rating'].unique()"
   ]
  },
  {
   "cell_type": "code",
   "execution_count": 10,
   "id": "a0904334",
   "metadata": {},
   "outputs": [
    {
     "data": {
      "text/plain": [
       "39"
      ]
     },
     "execution_count": 10,
     "metadata": {},
     "output_type": "execute_result"
    }
   ],
   "source": [
    "file['Rating'].nunique()"
   ]
  },
  {
   "cell_type": "code",
   "execution_count": 11,
   "id": "d6493f1c",
   "metadata": {},
   "outputs": [
    {
     "data": {
      "text/plain": [
       "array([1.e+04, 5.e+05, 5.e+06, 5.e+07, 1.e+05, 5.e+04, 1.e+06, 1.e+07,\n",
       "       5.e+03, 1.e+08, 1.e+09, 1.e+03, 5.e+08, 5.e+01, 1.e+02, 5.e+02,\n",
       "       1.e+01, 1.e+00, 5.e+00, 0.e+00])"
      ]
     },
     "execution_count": 11,
     "metadata": {},
     "output_type": "execute_result"
    }
   ],
   "source": [
    "file.Installs.unique()"
   ]
  },
  {
   "cell_type": "code",
   "execution_count": 12,
   "id": "c1eb1d71",
   "metadata": {},
   "outputs": [
    {
     "data": {
      "text/plain": [
       "460"
      ]
     },
     "execution_count": 12,
     "metadata": {},
     "output_type": "execute_result"
    }
   ],
   "source": [
    "file['Size'].nunique()"
   ]
  },
  {
   "cell_type": "code",
   "execution_count": 13,
   "id": "10a4f183",
   "metadata": {},
   "outputs": [
    {
     "data": {
      "text/plain": [
       "array(['Everyone', 'Teen', 'Everyone 10+', 'Mature 17+',\n",
       "       'Adults only 18+', 'Unrated'], dtype=object)"
      ]
     },
     "execution_count": 13,
     "metadata": {},
     "output_type": "execute_result"
    }
   ],
   "source": [
    "file['Content Rating'].unique()"
   ]
  },
  {
   "cell_type": "code",
   "execution_count": 14,
   "id": "ea534f89",
   "metadata": {},
   "outputs": [
    {
     "data": {
      "text/plain": [
       "6"
      ]
     },
     "execution_count": 14,
     "metadata": {},
     "output_type": "execute_result"
    }
   ],
   "source": [
    "len(file['Content Rating'].unique())"
   ]
  },
  {
   "cell_type": "code",
   "execution_count": 15,
   "id": "6024b190",
   "metadata": {},
   "outputs": [],
   "source": [
    "file.to_csv('cleaned_file.csv')   #export cleaned data into csv file"
   ]
  },
  {
   "cell_type": "code",
   "execution_count": null,
   "id": "b76a3042",
   "metadata": {},
   "outputs": [],
   "source": []
  },
  {
   "cell_type": "markdown",
   "id": "fa3b3d06",
   "metadata": {},
   "source": [
    "# Cleaning of Review dataset"
   ]
  },
  {
   "cell_type": "code",
   "execution_count": 16,
   "id": "d181a941",
   "metadata": {},
   "outputs": [
    {
     "data": {
      "text/html": [
       "<div>\n",
       "<style scoped>\n",
       "    .dataframe tbody tr th:only-of-type {\n",
       "        vertical-align: middle;\n",
       "    }\n",
       "\n",
       "    .dataframe tbody tr th {\n",
       "        vertical-align: top;\n",
       "    }\n",
       "\n",
       "    .dataframe thead th {\n",
       "        text-align: right;\n",
       "    }\n",
       "</style>\n",
       "<table border=\"1\" class=\"dataframe\">\n",
       "  <thead>\n",
       "    <tr style=\"text-align: right;\">\n",
       "      <th></th>\n",
       "      <th>Translated_Review</th>\n",
       "      <th>Sentiment</th>\n",
       "      <th>Sentiment_Polarity</th>\n",
       "      <th>Sentiment_Subjectivity</th>\n",
       "    </tr>\n",
       "    <tr>\n",
       "      <th>App</th>\n",
       "      <th></th>\n",
       "      <th></th>\n",
       "      <th></th>\n",
       "      <th></th>\n",
       "    </tr>\n",
       "  </thead>\n",
       "  <tbody>\n",
       "    <tr>\n",
       "      <th>10 Best Foods for You</th>\n",
       "      <td>I like eat delicious food. That's I'm cooking ...</td>\n",
       "      <td>Positive</td>\n",
       "      <td>1.00</td>\n",
       "      <td>0.533333</td>\n",
       "    </tr>\n",
       "    <tr>\n",
       "      <th>10 Best Foods for You</th>\n",
       "      <td>This help eating healthy exercise regular basis</td>\n",
       "      <td>Positive</td>\n",
       "      <td>0.25</td>\n",
       "      <td>0.288462</td>\n",
       "    </tr>\n",
       "    <tr>\n",
       "      <th>10 Best Foods for You</th>\n",
       "      <td>NaN</td>\n",
       "      <td>NaN</td>\n",
       "      <td>NaN</td>\n",
       "      <td>NaN</td>\n",
       "    </tr>\n",
       "    <tr>\n",
       "      <th>10 Best Foods for You</th>\n",
       "      <td>Works great especially going grocery store</td>\n",
       "      <td>Positive</td>\n",
       "      <td>0.40</td>\n",
       "      <td>0.875000</td>\n",
       "    </tr>\n",
       "    <tr>\n",
       "      <th>10 Best Foods for You</th>\n",
       "      <td>Best idea us</td>\n",
       "      <td>Positive</td>\n",
       "      <td>1.00</td>\n",
       "      <td>0.300000</td>\n",
       "    </tr>\n",
       "  </tbody>\n",
       "</table>\n",
       "</div>"
      ],
      "text/plain": [
       "                                                       Translated_Review  \\\n",
       "App                                                                        \n",
       "10 Best Foods for You  I like eat delicious food. That's I'm cooking ...   \n",
       "10 Best Foods for You    This help eating healthy exercise regular basis   \n",
       "10 Best Foods for You                                                NaN   \n",
       "10 Best Foods for You         Works great especially going grocery store   \n",
       "10 Best Foods for You                                       Best idea us   \n",
       "\n",
       "                      Sentiment  Sentiment_Polarity  Sentiment_Subjectivity  \n",
       "App                                                                          \n",
       "10 Best Foods for You  Positive                1.00                0.533333  \n",
       "10 Best Foods for You  Positive                0.25                0.288462  \n",
       "10 Best Foods for You       NaN                 NaN                     NaN  \n",
       "10 Best Foods for You  Positive                0.40                0.875000  \n",
       "10 Best Foods for You  Positive                1.00                0.300000  "
      ]
     },
     "execution_count": 16,
     "metadata": {},
     "output_type": "execute_result"
    }
   ],
   "source": [
    "#import Review data\n",
    "df=pd.read_csv('C:/Users/rajpu/OneDrive/Desktop/PlayStoreApp_Analysis/playstoreliveproj Drive FIle/playstoreliveproj/playstore_reviews.csv',index_col='App')\n",
    "df.head()"
   ]
  },
  {
   "cell_type": "code",
   "execution_count": 17,
   "id": "b85a4d83",
   "metadata": {},
   "outputs": [
    {
     "data": {
      "text/html": [
       "<div>\n",
       "<style scoped>\n",
       "    .dataframe tbody tr th:only-of-type {\n",
       "        vertical-align: middle;\n",
       "    }\n",
       "\n",
       "    .dataframe tbody tr th {\n",
       "        vertical-align: top;\n",
       "    }\n",
       "\n",
       "    .dataframe thead th {\n",
       "        text-align: right;\n",
       "    }\n",
       "</style>\n",
       "<table border=\"1\" class=\"dataframe\">\n",
       "  <thead>\n",
       "    <tr style=\"text-align: right;\">\n",
       "      <th></th>\n",
       "      <th>Translated_Review</th>\n",
       "      <th>Sentiment</th>\n",
       "      <th>Sentiment_Polarity</th>\n",
       "      <th>Sentiment_Subjectivity</th>\n",
       "    </tr>\n",
       "    <tr>\n",
       "      <th>App</th>\n",
       "      <th></th>\n",
       "      <th></th>\n",
       "      <th></th>\n",
       "      <th></th>\n",
       "    </tr>\n",
       "  </thead>\n",
       "  <tbody>\n",
       "    <tr>\n",
       "      <th>Houzz Interior Design Ideas</th>\n",
       "      <td>NaN</td>\n",
       "      <td>NaN</td>\n",
       "      <td>NaN</td>\n",
       "      <td>NaN</td>\n",
       "    </tr>\n",
       "    <tr>\n",
       "      <th>Houzz Interior Design Ideas</th>\n",
       "      <td>NaN</td>\n",
       "      <td>NaN</td>\n",
       "      <td>NaN</td>\n",
       "      <td>NaN</td>\n",
       "    </tr>\n",
       "    <tr>\n",
       "      <th>Houzz Interior Design Ideas</th>\n",
       "      <td>NaN</td>\n",
       "      <td>NaN</td>\n",
       "      <td>NaN</td>\n",
       "      <td>NaN</td>\n",
       "    </tr>\n",
       "    <tr>\n",
       "      <th>Houzz Interior Design Ideas</th>\n",
       "      <td>NaN</td>\n",
       "      <td>NaN</td>\n",
       "      <td>NaN</td>\n",
       "      <td>NaN</td>\n",
       "    </tr>\n",
       "    <tr>\n",
       "      <th>Houzz Interior Design Ideas</th>\n",
       "      <td>NaN</td>\n",
       "      <td>NaN</td>\n",
       "      <td>NaN</td>\n",
       "      <td>NaN</td>\n",
       "    </tr>\n",
       "  </tbody>\n",
       "</table>\n",
       "</div>"
      ],
      "text/plain": [
       "                            Translated_Review Sentiment  Sentiment_Polarity  \\\n",
       "App                                                                           \n",
       "Houzz Interior Design Ideas               NaN       NaN                 NaN   \n",
       "Houzz Interior Design Ideas               NaN       NaN                 NaN   \n",
       "Houzz Interior Design Ideas               NaN       NaN                 NaN   \n",
       "Houzz Interior Design Ideas               NaN       NaN                 NaN   \n",
       "Houzz Interior Design Ideas               NaN       NaN                 NaN   \n",
       "\n",
       "                             Sentiment_Subjectivity  \n",
       "App                                                  \n",
       "Houzz Interior Design Ideas                     NaN  \n",
       "Houzz Interior Design Ideas                     NaN  \n",
       "Houzz Interior Design Ideas                     NaN  \n",
       "Houzz Interior Design Ideas                     NaN  \n",
       "Houzz Interior Design Ideas                     NaN  "
      ]
     },
     "execution_count": 17,
     "metadata": {},
     "output_type": "execute_result"
    }
   ],
   "source": [
    "df.tail()"
   ]
  },
  {
   "cell_type": "code",
   "execution_count": 18,
   "id": "cd09f35d",
   "metadata": {},
   "outputs": [
    {
     "data": {
      "text/html": [
       "<div>\n",
       "<style scoped>\n",
       "    .dataframe tbody tr th:only-of-type {\n",
       "        vertical-align: middle;\n",
       "    }\n",
       "\n",
       "    .dataframe tbody tr th {\n",
       "        vertical-align: top;\n",
       "    }\n",
       "\n",
       "    .dataframe thead th {\n",
       "        text-align: right;\n",
       "    }\n",
       "</style>\n",
       "<table border=\"1\" class=\"dataframe\">\n",
       "  <thead>\n",
       "    <tr style=\"text-align: right;\">\n",
       "      <th></th>\n",
       "      <th>Translated_Review</th>\n",
       "      <th>Sentiment</th>\n",
       "      <th>Sentiment_Polarity</th>\n",
       "      <th>Sentiment_Subjectivity</th>\n",
       "    </tr>\n",
       "    <tr>\n",
       "      <th>App</th>\n",
       "      <th></th>\n",
       "      <th></th>\n",
       "      <th></th>\n",
       "      <th></th>\n",
       "    </tr>\n",
       "  </thead>\n",
       "  <tbody>\n",
       "    <tr>\n",
       "      <th>10 Best Foods for You</th>\n",
       "      <td>I like eat delicious food. That's I'm cooking ...</td>\n",
       "      <td>Positive</td>\n",
       "      <td>1.000000</td>\n",
       "      <td>0.533333</td>\n",
       "    </tr>\n",
       "    <tr>\n",
       "      <th>10 Best Foods for You</th>\n",
       "      <td>This help eating healthy exercise regular basis</td>\n",
       "      <td>Positive</td>\n",
       "      <td>0.250000</td>\n",
       "      <td>0.288462</td>\n",
       "    </tr>\n",
       "    <tr>\n",
       "      <th>10 Best Foods for You</th>\n",
       "      <td>Works great especially going grocery store</td>\n",
       "      <td>Positive</td>\n",
       "      <td>0.400000</td>\n",
       "      <td>0.875000</td>\n",
       "    </tr>\n",
       "    <tr>\n",
       "      <th>10 Best Foods for You</th>\n",
       "      <td>Best idea us</td>\n",
       "      <td>Positive</td>\n",
       "      <td>1.000000</td>\n",
       "      <td>0.300000</td>\n",
       "    </tr>\n",
       "    <tr>\n",
       "      <th>10 Best Foods for You</th>\n",
       "      <td>Best way</td>\n",
       "      <td>Positive</td>\n",
       "      <td>1.000000</td>\n",
       "      <td>0.300000</td>\n",
       "    </tr>\n",
       "    <tr>\n",
       "      <th>...</th>\n",
       "      <td>...</td>\n",
       "      <td>...</td>\n",
       "      <td>...</td>\n",
       "      <td>...</td>\n",
       "    </tr>\n",
       "    <tr>\n",
       "      <th>Housing-Real Estate &amp; Property</th>\n",
       "      <td>Most ads older many agents ..not much owner po...</td>\n",
       "      <td>Positive</td>\n",
       "      <td>0.173333</td>\n",
       "      <td>0.486667</td>\n",
       "    </tr>\n",
       "    <tr>\n",
       "      <th>Housing-Real Estate &amp; Property</th>\n",
       "      <td>If photos posted portal load, fit purpose. I'm...</td>\n",
       "      <td>Positive</td>\n",
       "      <td>0.225000</td>\n",
       "      <td>0.447222</td>\n",
       "    </tr>\n",
       "    <tr>\n",
       "      <th>Housing-Real Estate &amp; Property</th>\n",
       "      <td>Dumb app, I wanted post property rent give opt...</td>\n",
       "      <td>Negative</td>\n",
       "      <td>-0.287500</td>\n",
       "      <td>0.250000</td>\n",
       "    </tr>\n",
       "    <tr>\n",
       "      <th>Housing-Real Estate &amp; Property</th>\n",
       "      <td>I property business got link SMS happy perform...</td>\n",
       "      <td>Positive</td>\n",
       "      <td>0.800000</td>\n",
       "      <td>1.000000</td>\n",
       "    </tr>\n",
       "    <tr>\n",
       "      <th>Housing-Real Estate &amp; Property</th>\n",
       "      <td>Useless app, I searched flats kondapur, Hydera...</td>\n",
       "      <td>Negative</td>\n",
       "      <td>-0.316667</td>\n",
       "      <td>0.400000</td>\n",
       "    </tr>\n",
       "  </tbody>\n",
       "</table>\n",
       "<p>37427 rows × 4 columns</p>\n",
       "</div>"
      ],
      "text/plain": [
       "                                                                Translated_Review  \\\n",
       "App                                                                                 \n",
       "10 Best Foods for You           I like eat delicious food. That's I'm cooking ...   \n",
       "10 Best Foods for You             This help eating healthy exercise regular basis   \n",
       "10 Best Foods for You                  Works great especially going grocery store   \n",
       "10 Best Foods for You                                                Best idea us   \n",
       "10 Best Foods for You                                                    Best way   \n",
       "...                                                                           ...   \n",
       "Housing-Real Estate & Property  Most ads older many agents ..not much owner po...   \n",
       "Housing-Real Estate & Property  If photos posted portal load, fit purpose. I'm...   \n",
       "Housing-Real Estate & Property  Dumb app, I wanted post property rent give opt...   \n",
       "Housing-Real Estate & Property  I property business got link SMS happy perform...   \n",
       "Housing-Real Estate & Property  Useless app, I searched flats kondapur, Hydera...   \n",
       "\n",
       "                               Sentiment  Sentiment_Polarity  \\\n",
       "App                                                            \n",
       "10 Best Foods for You           Positive            1.000000   \n",
       "10 Best Foods for You           Positive            0.250000   \n",
       "10 Best Foods for You           Positive            0.400000   \n",
       "10 Best Foods for You           Positive            1.000000   \n",
       "10 Best Foods for You           Positive            1.000000   \n",
       "...                                  ...                 ...   \n",
       "Housing-Real Estate & Property  Positive            0.173333   \n",
       "Housing-Real Estate & Property  Positive            0.225000   \n",
       "Housing-Real Estate & Property  Negative           -0.287500   \n",
       "Housing-Real Estate & Property  Positive            0.800000   \n",
       "Housing-Real Estate & Property  Negative           -0.316667   \n",
       "\n",
       "                                Sentiment_Subjectivity  \n",
       "App                                                     \n",
       "10 Best Foods for You                         0.533333  \n",
       "10 Best Foods for You                         0.288462  \n",
       "10 Best Foods for You                         0.875000  \n",
       "10 Best Foods for You                         0.300000  \n",
       "10 Best Foods for You                         0.300000  \n",
       "...                                                ...  \n",
       "Housing-Real Estate & Property                0.486667  \n",
       "Housing-Real Estate & Property                0.447222  \n",
       "Housing-Real Estate & Property                0.250000  \n",
       "Housing-Real Estate & Property                1.000000  \n",
       "Housing-Real Estate & Property                0.400000  \n",
       "\n",
       "[37427 rows x 4 columns]"
      ]
     },
     "execution_count": 18,
     "metadata": {},
     "output_type": "execute_result"
    }
   ],
   "source": [
    "df.dropna(inplace=True)  #remove null values\n",
    "cleaned_df=df\n",
    "cleaned_df"
   ]
  },
  {
   "cell_type": "code",
   "execution_count": 19,
   "id": "100b5d2f",
   "metadata": {},
   "outputs": [
    {
     "data": {
      "text/html": [
       "<div>\n",
       "<style scoped>\n",
       "    .dataframe tbody tr th:only-of-type {\n",
       "        vertical-align: middle;\n",
       "    }\n",
       "\n",
       "    .dataframe tbody tr th {\n",
       "        vertical-align: top;\n",
       "    }\n",
       "\n",
       "    .dataframe thead th {\n",
       "        text-align: right;\n",
       "    }\n",
       "</style>\n",
       "<table border=\"1\" class=\"dataframe\">\n",
       "  <thead>\n",
       "    <tr style=\"text-align: right;\">\n",
       "      <th></th>\n",
       "      <th>Translated_Review</th>\n",
       "      <th>Sentiment</th>\n",
       "      <th>Sentiment_Polarity</th>\n",
       "      <th>Sentiment_Subjectivity</th>\n",
       "    </tr>\n",
       "    <tr>\n",
       "      <th>App</th>\n",
       "      <th></th>\n",
       "      <th></th>\n",
       "      <th></th>\n",
       "      <th></th>\n",
       "    </tr>\n",
       "  </thead>\n",
       "  <tbody>\n",
       "    <tr>\n",
       "      <th>10 Best Foods for You</th>\n",
       "      <td>I like eat delicious food. That's I'm cooking ...</td>\n",
       "      <td>Positive</td>\n",
       "      <td>1.00</td>\n",
       "      <td>0.533333</td>\n",
       "    </tr>\n",
       "    <tr>\n",
       "      <th>10 Best Foods for You</th>\n",
       "      <td>This help eating healthy exercise regular basis</td>\n",
       "      <td>Positive</td>\n",
       "      <td>0.25</td>\n",
       "      <td>0.288462</td>\n",
       "    </tr>\n",
       "    <tr>\n",
       "      <th>10 Best Foods for You</th>\n",
       "      <td>Works great especially going grocery store</td>\n",
       "      <td>Positive</td>\n",
       "      <td>0.40</td>\n",
       "      <td>0.875000</td>\n",
       "    </tr>\n",
       "    <tr>\n",
       "      <th>10 Best Foods for You</th>\n",
       "      <td>Best idea us</td>\n",
       "      <td>Positive</td>\n",
       "      <td>1.00</td>\n",
       "      <td>0.300000</td>\n",
       "    </tr>\n",
       "    <tr>\n",
       "      <th>10 Best Foods for You</th>\n",
       "      <td>Best way</td>\n",
       "      <td>Positive</td>\n",
       "      <td>1.00</td>\n",
       "      <td>0.300000</td>\n",
       "    </tr>\n",
       "  </tbody>\n",
       "</table>\n",
       "</div>"
      ],
      "text/plain": [
       "                                                       Translated_Review  \\\n",
       "App                                                                        \n",
       "10 Best Foods for You  I like eat delicious food. That's I'm cooking ...   \n",
       "10 Best Foods for You    This help eating healthy exercise regular basis   \n",
       "10 Best Foods for You         Works great especially going grocery store   \n",
       "10 Best Foods for You                                       Best idea us   \n",
       "10 Best Foods for You                                           Best way   \n",
       "\n",
       "                      Sentiment  Sentiment_Polarity  Sentiment_Subjectivity  \n",
       "App                                                                          \n",
       "10 Best Foods for You  Positive                1.00                0.533333  \n",
       "10 Best Foods for You  Positive                0.25                0.288462  \n",
       "10 Best Foods for You  Positive                0.40                0.875000  \n",
       "10 Best Foods for You  Positive                1.00                0.300000  \n",
       "10 Best Foods for You  Positive                1.00                0.300000  "
      ]
     },
     "execution_count": 19,
     "metadata": {},
     "output_type": "execute_result"
    }
   ],
   "source": [
    "cleaned_df.head()  # observed cleaned review data"
   ]
  },
  {
   "cell_type": "code",
   "execution_count": 20,
   "id": "ff410b4e",
   "metadata": {},
   "outputs": [
    {
     "data": {
      "text/html": [
       "<div>\n",
       "<style scoped>\n",
       "    .dataframe tbody tr th:only-of-type {\n",
       "        vertical-align: middle;\n",
       "    }\n",
       "\n",
       "    .dataframe tbody tr th {\n",
       "        vertical-align: top;\n",
       "    }\n",
       "\n",
       "    .dataframe thead th {\n",
       "        text-align: right;\n",
       "    }\n",
       "</style>\n",
       "<table border=\"1\" class=\"dataframe\">\n",
       "  <thead>\n",
       "    <tr style=\"text-align: right;\">\n",
       "      <th></th>\n",
       "      <th>Translated_Review</th>\n",
       "      <th>Sentiment</th>\n",
       "      <th>Sentiment_Polarity</th>\n",
       "      <th>Sentiment_Subjectivity</th>\n",
       "    </tr>\n",
       "    <tr>\n",
       "      <th>App</th>\n",
       "      <th></th>\n",
       "      <th></th>\n",
       "      <th></th>\n",
       "      <th></th>\n",
       "    </tr>\n",
       "  </thead>\n",
       "  <tbody>\n",
       "    <tr>\n",
       "      <th>Housing-Real Estate &amp; Property</th>\n",
       "      <td>Most ads older many agents ..not much owner po...</td>\n",
       "      <td>Positive</td>\n",
       "      <td>0.173333</td>\n",
       "      <td>0.486667</td>\n",
       "    </tr>\n",
       "    <tr>\n",
       "      <th>Housing-Real Estate &amp; Property</th>\n",
       "      <td>If photos posted portal load, fit purpose. I'm...</td>\n",
       "      <td>Positive</td>\n",
       "      <td>0.225000</td>\n",
       "      <td>0.447222</td>\n",
       "    </tr>\n",
       "    <tr>\n",
       "      <th>Housing-Real Estate &amp; Property</th>\n",
       "      <td>Dumb app, I wanted post property rent give opt...</td>\n",
       "      <td>Negative</td>\n",
       "      <td>-0.287500</td>\n",
       "      <td>0.250000</td>\n",
       "    </tr>\n",
       "    <tr>\n",
       "      <th>Housing-Real Estate &amp; Property</th>\n",
       "      <td>I property business got link SMS happy perform...</td>\n",
       "      <td>Positive</td>\n",
       "      <td>0.800000</td>\n",
       "      <td>1.000000</td>\n",
       "    </tr>\n",
       "    <tr>\n",
       "      <th>Housing-Real Estate &amp; Property</th>\n",
       "      <td>Useless app, I searched flats kondapur, Hydera...</td>\n",
       "      <td>Negative</td>\n",
       "      <td>-0.316667</td>\n",
       "      <td>0.400000</td>\n",
       "    </tr>\n",
       "  </tbody>\n",
       "</table>\n",
       "</div>"
      ],
      "text/plain": [
       "                                                                Translated_Review  \\\n",
       "App                                                                                 \n",
       "Housing-Real Estate & Property  Most ads older many agents ..not much owner po...   \n",
       "Housing-Real Estate & Property  If photos posted portal load, fit purpose. I'm...   \n",
       "Housing-Real Estate & Property  Dumb app, I wanted post property rent give opt...   \n",
       "Housing-Real Estate & Property  I property business got link SMS happy perform...   \n",
       "Housing-Real Estate & Property  Useless app, I searched flats kondapur, Hydera...   \n",
       "\n",
       "                               Sentiment  Sentiment_Polarity  \\\n",
       "App                                                            \n",
       "Housing-Real Estate & Property  Positive            0.173333   \n",
       "Housing-Real Estate & Property  Positive            0.225000   \n",
       "Housing-Real Estate & Property  Negative           -0.287500   \n",
       "Housing-Real Estate & Property  Positive            0.800000   \n",
       "Housing-Real Estate & Property  Negative           -0.316667   \n",
       "\n",
       "                                Sentiment_Subjectivity  \n",
       "App                                                     \n",
       "Housing-Real Estate & Property                0.486667  \n",
       "Housing-Real Estate & Property                0.447222  \n",
       "Housing-Real Estate & Property                0.250000  \n",
       "Housing-Real Estate & Property                1.000000  \n",
       "Housing-Real Estate & Property                0.400000  "
      ]
     },
     "execution_count": 20,
     "metadata": {},
     "output_type": "execute_result"
    }
   ],
   "source": [
    "cleaned_df.tail()"
   ]
  },
  {
   "cell_type": "code",
   "execution_count": 21,
   "id": "d5eab259",
   "metadata": {},
   "outputs": [],
   "source": [
    "cleaned_df.to_csv('review_final.csv')   # Export cleaned review dataset into csv file"
   ]
  },
  {
   "cell_type": "code",
   "execution_count": null,
   "id": "a431b28c",
   "metadata": {},
   "outputs": [],
   "source": []
  },
  {
   "cell_type": "code",
   "execution_count": null,
   "id": "4c8f7cae",
   "metadata": {},
   "outputs": [],
   "source": []
  }
 ],
 "metadata": {
  "kernelspec": {
   "display_name": "Python 3 (ipykernel)",
   "language": "python",
   "name": "python3"
  },
  "language_info": {
   "codemirror_mode": {
    "name": "ipython",
    "version": 3
   },
   "file_extension": ".py",
   "mimetype": "text/x-python",
   "name": "python",
   "nbconvert_exporter": "python",
   "pygments_lexer": "ipython3",
   "version": "3.11.0"
  }
 },
 "nbformat": 4,
 "nbformat_minor": 5
}
